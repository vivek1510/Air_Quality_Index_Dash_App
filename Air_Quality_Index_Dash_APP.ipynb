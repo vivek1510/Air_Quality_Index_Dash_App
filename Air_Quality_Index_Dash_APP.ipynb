{
 "cells": [
  {
   "cell_type": "code",
   "execution_count": 3,
   "metadata": {},
   "outputs": [],
   "source": [
    "from jupyter_dash import JupyterDash\n",
    "import dash\n",
    "import dash_core_components as dcc\n",
    "import dash_html_components as html\n",
    "import plotly.graph_objects as go\n",
    "from dash.dependencies import Input, Output\n",
    "import numpy as np\n",
    "import pandas as pd\n",
    "from datetime import datetime\n",
    "from os.path import isfile\n",
    "import requests\n",
    "import plotly.express as px\n",
    "import dash_bootstrap_components as dbc\n",
    "from IPython.display import Image"
   ]
  },
  {
   "cell_type": "code",
   "execution_count": 4,
   "metadata": {},
   "outputs": [],
   "source": [
    "at = requests.get(\"https://api.data.gov.in/resource/3b01bcb8-0b14-4abf-b6f2-c1bfd384ba69?api-key=579b464db66ec23bdd0000017032584c46ea435260efffec57a7a780&format=json&offset=0&limit=1000\")"
   ]
  },
  {
   "cell_type": "code",
   "execution_count": 5,
   "metadata": {
    "scrolled": true
   },
   "outputs": [
    {
     "data": {
      "text/html": [
       "<div>\n",
       "<style scoped>\n",
       "    .dataframe tbody tr th:only-of-type {\n",
       "        vertical-align: middle;\n",
       "    }\n",
       "\n",
       "    .dataframe tbody tr th {\n",
       "        vertical-align: top;\n",
       "    }\n",
       "\n",
       "    .dataframe thead th {\n",
       "        text-align: right;\n",
       "    }\n",
       "</style>\n",
       "<table border=\"1\" class=\"dataframe\">\n",
       "  <thead>\n",
       "    <tr style=\"text-align: right;\">\n",
       "      <th></th>\n",
       "      <th>id</th>\n",
       "      <th>country</th>\n",
       "      <th>state</th>\n",
       "      <th>city</th>\n",
       "      <th>station</th>\n",
       "      <th>last_update</th>\n",
       "      <th>pollutant_id</th>\n",
       "      <th>pollutant_min</th>\n",
       "      <th>pollutant_max</th>\n",
       "      <th>pollutant_avg</th>\n",
       "      <th>pollutant_unit</th>\n",
       "    </tr>\n",
       "  </thead>\n",
       "  <tbody>\n",
       "    <tr>\n",
       "      <th>0</th>\n",
       "      <td>1</td>\n",
       "      <td>India</td>\n",
       "      <td>Andhra_Pradesh</td>\n",
       "      <td>Amaravati</td>\n",
       "      <td>Secretariat, Amaravati - APPCB</td>\n",
       "      <td>21-06-2020 08:00:00</td>\n",
       "      <td>PM2.5</td>\n",
       "      <td>12</td>\n",
       "      <td>40</td>\n",
       "      <td>24</td>\n",
       "      <td>NA</td>\n",
       "    </tr>\n",
       "    <tr>\n",
       "      <th>1</th>\n",
       "      <td>2</td>\n",
       "      <td>India</td>\n",
       "      <td>Andhra_Pradesh</td>\n",
       "      <td>Amaravati</td>\n",
       "      <td>Secretariat, Amaravati - APPCB</td>\n",
       "      <td>21-06-2020 08:00:00</td>\n",
       "      <td>PM10</td>\n",
       "      <td>22</td>\n",
       "      <td>59</td>\n",
       "      <td>40</td>\n",
       "      <td>NA</td>\n",
       "    </tr>\n",
       "    <tr>\n",
       "      <th>2</th>\n",
       "      <td>3</td>\n",
       "      <td>India</td>\n",
       "      <td>Andhra_Pradesh</td>\n",
       "      <td>Amaravati</td>\n",
       "      <td>Secretariat, Amaravati - APPCB</td>\n",
       "      <td>21-06-2020 08:00:00</td>\n",
       "      <td>NO2</td>\n",
       "      <td>8</td>\n",
       "      <td>20</td>\n",
       "      <td>12</td>\n",
       "      <td>NA</td>\n",
       "    </tr>\n",
       "    <tr>\n",
       "      <th>3</th>\n",
       "      <td>4</td>\n",
       "      <td>India</td>\n",
       "      <td>Andhra_Pradesh</td>\n",
       "      <td>Amaravati</td>\n",
       "      <td>Secretariat, Amaravati - APPCB</td>\n",
       "      <td>21-06-2020 08:00:00</td>\n",
       "      <td>NH3</td>\n",
       "      <td>2</td>\n",
       "      <td>3</td>\n",
       "      <td>2</td>\n",
       "      <td>NA</td>\n",
       "    </tr>\n",
       "    <tr>\n",
       "      <th>4</th>\n",
       "      <td>5</td>\n",
       "      <td>India</td>\n",
       "      <td>Andhra_Pradesh</td>\n",
       "      <td>Amaravati</td>\n",
       "      <td>Secretariat, Amaravati - APPCB</td>\n",
       "      <td>21-06-2020 08:00:00</td>\n",
       "      <td>SO2</td>\n",
       "      <td>1</td>\n",
       "      <td>24</td>\n",
       "      <td>15</td>\n",
       "      <td>NA</td>\n",
       "    </tr>\n",
       "    <tr>\n",
       "      <th>...</th>\n",
       "      <td>...</td>\n",
       "      <td>...</td>\n",
       "      <td>...</td>\n",
       "      <td>...</td>\n",
       "      <td>...</td>\n",
       "      <td>...</td>\n",
       "      <td>...</td>\n",
       "      <td>...</td>\n",
       "      <td>...</td>\n",
       "      <td>...</td>\n",
       "      <td>...</td>\n",
       "    </tr>\n",
       "    <tr>\n",
       "      <th>75</th>\n",
       "      <td>76</td>\n",
       "      <td>India</td>\n",
       "      <td>Bihar</td>\n",
       "      <td>Patna</td>\n",
       "      <td>Samanpura, Patna - BSPCB</td>\n",
       "      <td>21-06-2020 08:00:00</td>\n",
       "      <td>PM10</td>\n",
       "      <td>43</td>\n",
       "      <td>75</td>\n",
       "      <td>59</td>\n",
       "      <td>NA</td>\n",
       "    </tr>\n",
       "    <tr>\n",
       "      <th>76</th>\n",
       "      <td>77</td>\n",
       "      <td>India</td>\n",
       "      <td>Bihar</td>\n",
       "      <td>Patna</td>\n",
       "      <td>Samanpura, Patna - BSPCB</td>\n",
       "      <td>21-06-2020 08:00:00</td>\n",
       "      <td>NO2</td>\n",
       "      <td>6</td>\n",
       "      <td>35</td>\n",
       "      <td>24</td>\n",
       "      <td>NA</td>\n",
       "    </tr>\n",
       "    <tr>\n",
       "      <th>77</th>\n",
       "      <td>78</td>\n",
       "      <td>India</td>\n",
       "      <td>Bihar</td>\n",
       "      <td>Patna</td>\n",
       "      <td>Samanpura, Patna - BSPCB</td>\n",
       "      <td>21-06-2020 08:00:00</td>\n",
       "      <td>NH3</td>\n",
       "      <td>1</td>\n",
       "      <td>1</td>\n",
       "      <td>1</td>\n",
       "      <td>NA</td>\n",
       "    </tr>\n",
       "    <tr>\n",
       "      <th>78</th>\n",
       "      <td>79</td>\n",
       "      <td>India</td>\n",
       "      <td>Bihar</td>\n",
       "      <td>Patna</td>\n",
       "      <td>Samanpura, Patna - BSPCB</td>\n",
       "      <td>21-06-2020 08:00:00</td>\n",
       "      <td>CO</td>\n",
       "      <td>19</td>\n",
       "      <td>32</td>\n",
       "      <td>21</td>\n",
       "      <td>NA</td>\n",
       "    </tr>\n",
       "    <tr>\n",
       "      <th>79</th>\n",
       "      <td>80</td>\n",
       "      <td>India</td>\n",
       "      <td>Bihar</td>\n",
       "      <td>Patna</td>\n",
       "      <td>Samanpura, Patna - BSPCB</td>\n",
       "      <td>21-06-2020 08:00:00</td>\n",
       "      <td>OZONE</td>\n",
       "      <td>7</td>\n",
       "      <td>44</td>\n",
       "      <td>10</td>\n",
       "      <td>NA</td>\n",
       "    </tr>\n",
       "  </tbody>\n",
       "</table>\n",
       "<p>80 rows × 11 columns</p>\n",
       "</div>"
      ],
      "text/plain": [
       "    id country           state       city                         station  \\\n",
       "0    1   India  Andhra_Pradesh  Amaravati  Secretariat, Amaravati - APPCB   \n",
       "1    2   India  Andhra_Pradesh  Amaravati  Secretariat, Amaravati - APPCB   \n",
       "2    3   India  Andhra_Pradesh  Amaravati  Secretariat, Amaravati - APPCB   \n",
       "3    4   India  Andhra_Pradesh  Amaravati  Secretariat, Amaravati - APPCB   \n",
       "4    5   India  Andhra_Pradesh  Amaravati  Secretariat, Amaravati - APPCB   \n",
       "..  ..     ...             ...        ...                             ...   \n",
       "75  76   India           Bihar      Patna        Samanpura, Patna - BSPCB   \n",
       "76  77   India           Bihar      Patna        Samanpura, Patna - BSPCB   \n",
       "77  78   India           Bihar      Patna        Samanpura, Patna - BSPCB   \n",
       "78  79   India           Bihar      Patna        Samanpura, Patna - BSPCB   \n",
       "79  80   India           Bihar      Patna        Samanpura, Patna - BSPCB   \n",
       "\n",
       "            last_update pollutant_id pollutant_min pollutant_max  \\\n",
       "0   21-06-2020 08:00:00        PM2.5            12            40   \n",
       "1   21-06-2020 08:00:00         PM10            22            59   \n",
       "2   21-06-2020 08:00:00          NO2             8            20   \n",
       "3   21-06-2020 08:00:00          NH3             2             3   \n",
       "4   21-06-2020 08:00:00          SO2             1            24   \n",
       "..                  ...          ...           ...           ...   \n",
       "75  21-06-2020 08:00:00         PM10            43            75   \n",
       "76  21-06-2020 08:00:00          NO2             6            35   \n",
       "77  21-06-2020 08:00:00          NH3             1             1   \n",
       "78  21-06-2020 08:00:00           CO            19            32   \n",
       "79  21-06-2020 08:00:00        OZONE             7            44   \n",
       "\n",
       "   pollutant_avg pollutant_unit  \n",
       "0             24             NA  \n",
       "1             40             NA  \n",
       "2             12             NA  \n",
       "3              2             NA  \n",
       "4             15             NA  \n",
       "..           ...            ...  \n",
       "75            59             NA  \n",
       "76            24             NA  \n",
       "77             1             NA  \n",
       "78            21             NA  \n",
       "79            10             NA  \n",
       "\n",
       "[80 rows x 11 columns]"
      ]
     },
     "execution_count": 5,
     "metadata": {},
     "output_type": "execute_result"
    }
   ],
   "source": [
    "json_dat = at.json()\n",
    "ab = pd.DataFrame(json_dat[\"records\"])\n",
    "ab.set_index(\"id\")\n",
    "ab.head(80)"
   ]
  },
  {
   "cell_type": "code",
   "execution_count": 6,
   "metadata": {},
   "outputs": [],
   "source": [
    "train = ab.copy()\n",
    "train.pollutant_min = pd.to_numeric(train.pollutant_min,errors = \"coerce\")\n",
    "train.pollutant_max = pd.to_numeric(train.pollutant_max,errors = \"coerce\")\n",
    "train.pollutant_avg = pd.to_numeric(train.pollutant_avg,errors = \"coerce\")"
   ]
  },
  {
   "cell_type": "code",
   "execution_count": 7,
   "metadata": {},
   "outputs": [],
   "source": [
    "train = train.dropna(subset = [\"pollutant_min\"])"
   ]
  },
  {
   "cell_type": "code",
   "execution_count": 8,
   "metadata": {},
   "outputs": [
    {
     "name": "stdout",
     "output_type": "stream",
     "text": [
      "['Andhra_Pradesh', 'Assam', 'Bihar', 'Chandigarh', 'Delhi', 'Gujarat', 'Haryana', 'Jharkhand', 'Karnataka', 'Kerala', 'Madhya Pradesh', 'Maharashtra', 'Meghalaya', 'Mizoram', 'Odisha', 'Punjab', 'Rajasthan']\n"
     ]
    }
   ],
   "source": [
    "states = list(train[\"state\"].unique())\n",
    "print(states)"
   ]
  },
  {
   "cell_type": "code",
   "execution_count": 9,
   "metadata": {},
   "outputs": [],
   "source": [
    "st_ct = {}\n",
    "for i in states:\n",
    "    st_ct[i] = (list(train.loc[train[\"state\"]==i,\"city\"].unique()))\n",
    "    "
   ]
  },
  {
   "cell_type": "code",
   "execution_count": 10,
   "metadata": {},
   "outputs": [
    {
     "name": "stdout",
     "output_type": "stream",
     "text": [
      "{'Andhra_Pradesh': ['Amaravati', 'Rajamahendravaram', 'Tirupati', 'Visakhapatnam'], 'Assam': ['Guwahati'], 'Bihar': ['Gaya', 'Hajipur', 'Muzaffarpur', 'Patna'], 'Chandigarh': ['Chandigarh'], 'Delhi': ['Delhi'], 'Gujarat': ['Ahmedabad', 'Gandhinagar', 'Vapi', 'Vatva'], 'Haryana': ['Ambala', 'Bahadurgarh', 'Ballabgarh', 'Bhiwani', 'Dharuhera', 'Faridabad', 'Gurugram', 'Jind', 'Kaithal', 'Karnal', 'Kurukshetra', 'Mandikhera', 'Manesar', 'Narnaul', 'Palwal', 'Panchkula', 'Panipat', 'Rohtak', 'Sirsa', 'Sonipat', 'Yamunanagar'], 'Jharkhand': ['Jorapokhar'], 'Karnataka': ['Bagalkot', 'Bengaluru', 'Chikkaballapur', 'Chikkamagaluru', 'Hubballi', 'Kalaburgi', 'Mysuru', 'Ramanagara', 'Vijayapura', 'Yadgir'], 'Kerala': ['Eloor', 'Kannur', 'Kochi', 'Kollam', 'Kozhikode', 'Thiruvananthapuram'], 'Madhya Pradesh': ['Bhopal', 'Damoh', 'Dewas', 'Gwalior', 'Indore', 'Jabalpur', 'Katni', 'Maihar', 'Mandideep', 'Pithampur', 'Ratlam', 'Sagar', 'Satna', 'Singrauli', 'Ujjain'], 'Maharashtra': ['Aurangabad', 'Chandrapur', 'Mumbai', 'Nagpur', 'Nashik', 'Navi Mumbai', 'Thane'], 'Meghalaya': ['Shillong'], 'Mizoram': ['Aizawl'], 'Odisha': ['Talcher'], 'Punjab': ['Amritsar', 'Bathinda', 'Jalandhar', 'Khanna', 'Ludhiana', 'Patiala', 'Rupnagar'], 'Rajasthan': ['Ajmer', 'Alwar', 'Bhiwadi', 'Jaipur']}\n"
     ]
    }
   ],
   "source": [
    "print(st_ct)"
   ]
  },
  {
   "cell_type": "code",
   "execution_count": 94,
   "metadata": {},
   "outputs": [],
   "source": [
    "app = dash.Dash(__name__,external_stylesheets=[dbc.themes.SLATE])"
   ]
  },
  {
   "cell_type": "code",
   "execution_count": 95,
   "metadata": {},
   "outputs": [],
   "source": [
    "colors = {\n",
    "    'background': '#111121',\n",
    "    'text': '#7FDBFF'\n",
    "}\n"
   ]
  },
  {
   "cell_type": "code",
   "execution_count": 96,
   "metadata": {},
   "outputs": [],
   "source": [
    "app.layout = html.Div([\n",
    "\n",
    "    html.H1(\"AIR QUALITY INDEX\", \n",
    "            style={'text-align': 'center',\n",
    "                   'color':colors['text']}),\n",
    "     html.Br(),html.Br(),\n",
    "    \n",
    "    html.H2(\"Check Air Quality Index of Your City\",style={'color': colors['text'],'padding':'5pt'}),\n",
    "    dcc.Dropdown(id='slct_state',\n",
    "                 options=[{\"label\":x,\"value\":x} for x in st_ct.keys()],\n",
    "                 multi=False,\n",
    "                 value='Delhi',\n",
    "                 placeholder=\"Select  State\",\n",
    "                 style={'width': \"40%\",'color':\"black\",'padding-left':'10pt'}\n",
    "                 ),\n",
    "    html.Br(),\n",
    "    dcc.Dropdown(id='slct_city',\n",
    "                 multi=False,\n",
    "                 value='Delhi',\n",
    "                 placeholder=\"Select a City\",\n",
    "                 style={'width': \"40%\",'color':\"black\",'padding-left':'10pt'}\n",
    "                 ),\n",
    "     html.Br(),html.Br(),\n",
    "\n",
    "    html.H3(html.Div(id='output_container', children=[]),style={'color': colors['text'],'padding-left':'10pt'}),\n",
    "    html.Br(),\n",
    "\n",
    "    \n",
    "    dcc.Graph(id='my_bee_map',\n",
    "             style={'width': \"60%\",'display':'inline-block'}), \n",
    "    \n",
    "    html.Img(src= \"https://w.ndtvimg.com/sites/3/2019/12/18122812/air_pollution_standards_cpcb.png\",style={'padding':'10pt','width': \"40%\",'vertical-align':'top','display':'inline-block'})\n",
    "    \n",
    "    \n",
    "    \n",
    "\n",
    "])"
   ]
  },
  {
   "cell_type": "code",
   "execution_count": 97,
   "metadata": {},
   "outputs": [],
   "source": [
    "@app.callback(\n",
    "    Output(component_id='slct_city', component_property='options'),\n",
    "    [Input(component_id='slct_state', component_property='value')]\n",
    ")\n",
    "def set_cities_options(selected_state):\n",
    "    print(selected_state)\n",
    "    return [{'label': i, 'value': i} for i in st_ct[selected_state]]"
   ]
  },
  {
   "cell_type": "code",
   "execution_count": 98,
   "metadata": {},
   "outputs": [],
   "source": [
    "@app.callback(\n",
    "    Output(component_id='slct_city', component_property='value'),\n",
    "    [Input(component_id='slct_city', component_property='options')]\n",
    ")\n",
    "def set_cities_value(available_options):\n",
    "    #print(available_options[0]['value'])\n",
    "    return available_options[0]['value']"
   ]
  },
  {
   "cell_type": "code",
   "execution_count": 99,
   "metadata": {},
   "outputs": [],
   "source": [
    "@app.callback(\n",
    "    [Output(component_id='output_container', component_property='children'),\n",
    "     Output(component_id='my_bee_map', component_property='figure')],\n",
    "    [Input(component_id='slct_city', component_property='value')]\n",
    ")\n",
    "def update_graph(option_slctd):\n",
    "    print(option_slctd)\n",
    "    print(type(option_slctd))\n",
    "\n",
    "    container = \"The AQI Of {} is:\".format(option_slctd)\n",
    "    df =  train[train[\"city\"]==option_slctd]\n",
    "    fig = px.bar(df, x='pollutant_id', y='pollutant_avg',color =\"station\", barmode = 'group', height=400,template='plotly_dark')\n",
    "    return container, fig\n"
   ]
  },
  {
   "cell_type": "code",
   "execution_count": 100,
   "metadata": {},
   "outputs": [
    {
     "name": "stdout",
     "output_type": "stream",
     "text": [
      " * Serving Flask app \"__main__\" (lazy loading)\n",
      " * Environment: production\n",
      "   WARNING: This is a development server. Do not use it in a production deployment.\n",
      "   Use a production WSGI server instead.\n",
      " * Debug mode: off\n"
     ]
    },
    {
     "name": "stderr",
     "output_type": "stream",
     "text": [
      " * Running on http://127.0.0.1:8050/ (Press CTRL+C to quit)\n",
      "127.0.0.1 - - [21/Jun/2020 09:59:33] \"\u001b[37mGET / HTTP/1.1\u001b[0m\" 200 -\n",
      "127.0.0.1 - - [21/Jun/2020 09:59:33] \"\u001b[37mGET /_dash-layout HTTP/1.1\u001b[0m\" 200 -\n",
      "127.0.0.1 - - [21/Jun/2020 09:59:33] \"\u001b[37mGET /_dash-dependencies HTTP/1.1\u001b[0m\" 200 -\n",
      "127.0.0.1 - - [21/Jun/2020 09:59:33] \"\u001b[37mPOST /_dash-update-component HTTP/1.1\u001b[0m\" 200 -\n",
      "127.0.0.1 - - [21/Jun/2020 09:59:33] \"\u001b[37mPOST /_dash-update-component HTTP/1.1\u001b[0m\" 200 -\n"
     ]
    },
    {
     "name": "stdout",
     "output_type": "stream",
     "text": [
      "Delhi\n",
      "Delhi\n",
      "<class 'str'>\n"
     ]
    },
    {
     "name": "stderr",
     "output_type": "stream",
     "text": [
      "127.0.0.1 - - [21/Jun/2020 09:59:34] \"\u001b[37mPOST /_dash-update-component HTTP/1.1\u001b[0m\" 200 -\n",
      "127.0.0.1 - - [21/Jun/2020 10:00:13] \"\u001b[37mPOST /_dash-update-component HTTP/1.1\u001b[0m\" 200 -\n",
      "127.0.0.1 - - [21/Jun/2020 10:00:13] \"\u001b[37mPOST /_dash-update-component HTTP/1.1\u001b[0m\" 200 -\n",
      "127.0.0.1 - - [21/Jun/2020 10:00:13] \"\u001b[37mPOST /_dash-update-component HTTP/1.1\u001b[0m\" 200 -\n"
     ]
    },
    {
     "name": "stdout",
     "output_type": "stream",
     "text": [
      "Rajasthan\n",
      "Ajmer\n",
      "<class 'str'>\n"
     ]
    },
    {
     "name": "stderr",
     "output_type": "stream",
     "text": [
      "127.0.0.1 - - [21/Jun/2020 10:00:19] \"\u001b[37mPOST /_dash-update-component HTTP/1.1\u001b[0m\" 200 -\n"
     ]
    },
    {
     "name": "stdout",
     "output_type": "stream",
     "text": [
      "Jaipur\n",
      "<class 'str'>\n"
     ]
    },
    {
     "name": "stderr",
     "output_type": "stream",
     "text": [
      "127.0.0.1 - - [21/Jun/2020 10:00:24] \"\u001b[37mPOST /_dash-update-component HTTP/1.1\u001b[0m\" 200 -\n",
      "127.0.0.1 - - [21/Jun/2020 10:00:24] \"\u001b[37mPOST /_dash-update-component HTTP/1.1\u001b[0m\" 200 -\n",
      "127.0.0.1 - - [21/Jun/2020 10:00:24] \"\u001b[37mPOST /_dash-update-component HTTP/1.1\u001b[0m\" 200 -\n"
     ]
    },
    {
     "name": "stdout",
     "output_type": "stream",
     "text": [
      "Odisha\n",
      "Talcher\n",
      "<class 'str'>\n"
     ]
    },
    {
     "name": "stderr",
     "output_type": "stream",
     "text": [
      "127.0.0.1 - - [21/Jun/2020 10:00:36] \"\u001b[37mPOST /_dash-update-component HTTP/1.1\u001b[0m\" 200 -\n",
      "127.0.0.1 - - [21/Jun/2020 10:00:36] \"\u001b[37mPOST /_dash-update-component HTTP/1.1\u001b[0m\" 200 -\n",
      "127.0.0.1 - - [21/Jun/2020 10:00:36] \"\u001b[37mPOST /_dash-update-component HTTP/1.1\u001b[0m\" 200 -\n"
     ]
    },
    {
     "name": "stdout",
     "output_type": "stream",
     "text": [
      "Meghalaya\n",
      "Shillong\n",
      "<class 'str'>\n"
     ]
    },
    {
     "name": "stderr",
     "output_type": "stream",
     "text": [
      "127.0.0.1 - - [21/Jun/2020 10:00:41] \"\u001b[37mPOST /_dash-update-component HTTP/1.1\u001b[0m\" 200 -\n",
      "127.0.0.1 - - [21/Jun/2020 10:00:41] \"\u001b[37mPOST /_dash-update-component HTTP/1.1\u001b[0m\" 200 -\n",
      "127.0.0.1 - - [21/Jun/2020 10:00:41] \"\u001b[37mPOST /_dash-update-component HTTP/1.1\u001b[0m\" 200 -\n"
     ]
    },
    {
     "name": "stdout",
     "output_type": "stream",
     "text": [
      "Kerala\n",
      "Eloor\n",
      "<class 'str'>\n"
     ]
    },
    {
     "name": "stderr",
     "output_type": "stream",
     "text": [
      "127.0.0.1 - - [21/Jun/2020 10:00:48] \"\u001b[37mPOST /_dash-update-component HTTP/1.1\u001b[0m\" 200 -\n"
     ]
    },
    {
     "name": "stdout",
     "output_type": "stream",
     "text": [
      "Kollam\n",
      "<class 'str'>\n"
     ]
    }
   ],
   "source": [
    "app.run_server()"
   ]
  }
 ],
 "metadata": {
  "kernelspec": {
   "display_name": "Python 3",
   "language": "python",
   "name": "python3"
  },
  "language_info": {
   "codemirror_mode": {
    "name": "ipython",
    "version": 3
   },
   "file_extension": ".py",
   "mimetype": "text/x-python",
   "name": "python",
   "nbconvert_exporter": "python",
   "pygments_lexer": "ipython3",
   "version": "3.7.6"
  }
 },
 "nbformat": 4,
 "nbformat_minor": 4
}
